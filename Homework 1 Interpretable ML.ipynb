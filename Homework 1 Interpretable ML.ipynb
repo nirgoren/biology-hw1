{
 "cells": [
  {
   "cell_type": "code",
   "execution_count": 1,
   "metadata": {
    "ExecuteTime": {
     "end_time": "2024-06-20T17:03:58.570845Z",
     "start_time": "2024-06-20T17:03:49.619492Z"
    },
    "colab": {
     "background_save": true,
     "base_uri": "https://localhost:8080/"
    },
    "id": "LiYOvbG63muK",
    "outputId": "8c63bcb2-5b9a-49e9-91d8-8b6c0a5eca94"
   },
   "outputs": [
    {
     "name": "stdout",
     "output_type": "stream",
     "text": [
      "Requirement already satisfied: ucimlrepo in ./.venv/lib/python3.12/site-packages (0.0.7)\r\n",
      "Requirement already satisfied: pandas>=1.0.0 in ./.venv/lib/python3.12/site-packages (from ucimlrepo) (2.2.2)\r\n",
      "Requirement already satisfied: certifi>=2020.12.5 in ./.venv/lib/python3.12/site-packages (from ucimlrepo) (2024.6.2)\r\n",
      "Requirement already satisfied: numpy>=1.26.0 in ./.venv/lib/python3.12/site-packages (from pandas>=1.0.0->ucimlrepo) (1.26.4)\r\n",
      "Requirement already satisfied: python-dateutil>=2.8.2 in ./.venv/lib/python3.12/site-packages (from pandas>=1.0.0->ucimlrepo) (2.9.0.post0)\r\n",
      "Requirement already satisfied: pytz>=2020.1 in ./.venv/lib/python3.12/site-packages (from pandas>=1.0.0->ucimlrepo) (2024.1)\r\n",
      "Requirement already satisfied: tzdata>=2022.7 in ./.venv/lib/python3.12/site-packages (from pandas>=1.0.0->ucimlrepo) (2024.1)\r\n",
      "Requirement already satisfied: six>=1.5 in ./.venv/lib/python3.12/site-packages (from python-dateutil>=2.8.2->pandas>=1.0.0->ucimlrepo) (1.16.0)\r\n",
      "\r\n",
      "\u001b[1m[\u001b[0m\u001b[34;49mnotice\u001b[0m\u001b[1;39;49m]\u001b[0m\u001b[39;49m A new release of pip is available: \u001b[0m\u001b[31;49m23.2.1\u001b[0m\u001b[39;49m -> \u001b[0m\u001b[32;49m24.0\u001b[0m\r\n",
      "\u001b[1m[\u001b[0m\u001b[34;49mnotice\u001b[0m\u001b[1;39;49m]\u001b[0m\u001b[39;49m To update, run: \u001b[0m\u001b[32;49mpip install --upgrade pip\u001b[0m\r\n",
      "Requirement already satisfied: matplotlib in ./.venv/lib/python3.12/site-packages (3.9.0)\r\n",
      "Requirement already satisfied: seaborn in ./.venv/lib/python3.12/site-packages (0.13.2)\r\n",
      "Requirement already satisfied: contourpy>=1.0.1 in ./.venv/lib/python3.12/site-packages (from matplotlib) (1.2.1)\r\n",
      "Requirement already satisfied: cycler>=0.10 in ./.venv/lib/python3.12/site-packages (from matplotlib) (0.12.1)\r\n",
      "Requirement already satisfied: fonttools>=4.22.0 in ./.venv/lib/python3.12/site-packages (from matplotlib) (4.53.0)\r\n",
      "Requirement already satisfied: kiwisolver>=1.3.1 in ./.venv/lib/python3.12/site-packages (from matplotlib) (1.4.5)\r\n",
      "Requirement already satisfied: numpy>=1.23 in ./.venv/lib/python3.12/site-packages (from matplotlib) (1.26.4)\r\n",
      "Requirement already satisfied: packaging>=20.0 in ./.venv/lib/python3.12/site-packages (from matplotlib) (24.1)\r\n",
      "Requirement already satisfied: pillow>=8 in ./.venv/lib/python3.12/site-packages (from matplotlib) (10.3.0)\r\n",
      "Requirement already satisfied: pyparsing>=2.3.1 in ./.venv/lib/python3.12/site-packages (from matplotlib) (3.1.2)\r\n",
      "Requirement already satisfied: python-dateutil>=2.7 in ./.venv/lib/python3.12/site-packages (from matplotlib) (2.9.0.post0)\r\n",
      "Requirement already satisfied: pandas>=1.2 in ./.venv/lib/python3.12/site-packages (from seaborn) (2.2.2)\r\n",
      "Requirement already satisfied: pytz>=2020.1 in ./.venv/lib/python3.12/site-packages (from pandas>=1.2->seaborn) (2024.1)\r\n",
      "Requirement already satisfied: tzdata>=2022.7 in ./.venv/lib/python3.12/site-packages (from pandas>=1.2->seaborn) (2024.1)\r\n",
      "Requirement already satisfied: six>=1.5 in ./.venv/lib/python3.12/site-packages (from python-dateutil>=2.7->matplotlib) (1.16.0)\r\n",
      "\r\n",
      "\u001b[1m[\u001b[0m\u001b[34;49mnotice\u001b[0m\u001b[1;39;49m]\u001b[0m\u001b[39;49m A new release of pip is available: \u001b[0m\u001b[31;49m23.2.1\u001b[0m\u001b[39;49m -> \u001b[0m\u001b[32;49m24.0\u001b[0m\r\n",
      "\u001b[1m[\u001b[0m\u001b[34;49mnotice\u001b[0m\u001b[1;39;49m]\u001b[0m\u001b[39;49m To update, run: \u001b[0m\u001b[32;49mpip install --upgrade pip\u001b[0m\r\n",
      "Requirement already satisfied: alibi in ./.venv/lib/python3.12/site-packages (0.9.6)\r\n",
      "Requirement already satisfied: numpy<2.0.0,>=1.16.2 in ./.venv/lib/python3.12/site-packages (from alibi) (1.26.4)\r\n",
      "Requirement already satisfied: pandas<3.0.0,>=1.0.0 in ./.venv/lib/python3.12/site-packages (from alibi) (2.2.2)\r\n",
      "Requirement already satisfied: scikit-learn<2.0.0,>=1.0.0 in ./.venv/lib/python3.12/site-packages (from alibi) (1.5.0)\r\n",
      "Requirement already satisfied: spacy[lookups]<4.0.0,>=2.0.0 in ./.venv/lib/python3.12/site-packages (from alibi) (3.7.5)\r\n",
      "Requirement already satisfied: blis<0.8.0 in ./.venv/lib/python3.12/site-packages (from alibi) (0.7.11)\r\n",
      "Requirement already satisfied: scikit-image<0.23,>=0.17.2 in ./.venv/lib/python3.12/site-packages (from alibi) (0.22.0)\r\n",
      "Requirement already satisfied: requests<3.0.0,>=2.21.0 in ./.venv/lib/python3.12/site-packages (from alibi) (2.32.3)\r\n",
      "Requirement already satisfied: Pillow<11.0,>=5.4.1 in ./.venv/lib/python3.12/site-packages (from alibi) (10.3.0)\r\n",
      "Requirement already satisfied: attrs<24.0.0,>=19.2.0 in ./.venv/lib/python3.12/site-packages (from alibi) (23.2.0)\r\n",
      "Requirement already satisfied: scipy<2.0.0,>=1.1.0 in ./.venv/lib/python3.12/site-packages (from alibi) (1.13.1)\r\n",
      "Requirement already satisfied: matplotlib<4.0.0,>=3.0.0 in ./.venv/lib/python3.12/site-packages (from alibi) (3.9.0)\r\n",
      "Requirement already satisfied: typing-extensions>=3.7.4.3 in ./.venv/lib/python3.12/site-packages (from alibi) (4.12.2)\r\n",
      "Requirement already satisfied: dill<0.4.0,>=0.3.0 in ./.venv/lib/python3.12/site-packages (from alibi) (0.3.8)\r\n",
      "Requirement already satisfied: transformers<5.0.0,>=4.7.0 in ./.venv/lib/python3.12/site-packages (from alibi) (4.41.2)\r\n",
      "Requirement already satisfied: tqdm<5.0.0,>=4.28.1 in ./.venv/lib/python3.12/site-packages (from alibi) (4.66.4)\r\n",
      "Requirement already satisfied: contourpy>=1.0.1 in ./.venv/lib/python3.12/site-packages (from matplotlib<4.0.0,>=3.0.0->alibi) (1.2.1)\r\n",
      "Requirement already satisfied: cycler>=0.10 in ./.venv/lib/python3.12/site-packages (from matplotlib<4.0.0,>=3.0.0->alibi) (0.12.1)\r\n",
      "Requirement already satisfied: fonttools>=4.22.0 in ./.venv/lib/python3.12/site-packages (from matplotlib<4.0.0,>=3.0.0->alibi) (4.53.0)\r\n",
      "Requirement already satisfied: kiwisolver>=1.3.1 in ./.venv/lib/python3.12/site-packages (from matplotlib<4.0.0,>=3.0.0->alibi) (1.4.5)\r\n",
      "Requirement already satisfied: packaging>=20.0 in ./.venv/lib/python3.12/site-packages (from matplotlib<4.0.0,>=3.0.0->alibi) (24.1)\r\n",
      "Requirement already satisfied: pyparsing>=2.3.1 in ./.venv/lib/python3.12/site-packages (from matplotlib<4.0.0,>=3.0.0->alibi) (3.1.2)\r\n",
      "Requirement already satisfied: python-dateutil>=2.7 in ./.venv/lib/python3.12/site-packages (from matplotlib<4.0.0,>=3.0.0->alibi) (2.9.0.post0)\r\n",
      "Requirement already satisfied: pytz>=2020.1 in ./.venv/lib/python3.12/site-packages (from pandas<3.0.0,>=1.0.0->alibi) (2024.1)\r\n",
      "Requirement already satisfied: tzdata>=2022.7 in ./.venv/lib/python3.12/site-packages (from pandas<3.0.0,>=1.0.0->alibi) (2024.1)\r\n",
      "Requirement already satisfied: charset-normalizer<4,>=2 in ./.venv/lib/python3.12/site-packages (from requests<3.0.0,>=2.21.0->alibi) (3.3.2)\r\n",
      "Requirement already satisfied: idna<4,>=2.5 in ./.venv/lib/python3.12/site-packages (from requests<3.0.0,>=2.21.0->alibi) (3.7)\r\n",
      "Requirement already satisfied: urllib3<3,>=1.21.1 in ./.venv/lib/python3.12/site-packages (from requests<3.0.0,>=2.21.0->alibi) (2.2.2)\r\n",
      "Requirement already satisfied: certifi>=2017.4.17 in ./.venv/lib/python3.12/site-packages (from requests<3.0.0,>=2.21.0->alibi) (2024.6.2)\r\n",
      "Requirement already satisfied: networkx>=2.8 in ./.venv/lib/python3.12/site-packages (from scikit-image<0.23,>=0.17.2->alibi) (3.3)\r\n",
      "Requirement already satisfied: imageio>=2.27 in ./.venv/lib/python3.12/site-packages (from scikit-image<0.23,>=0.17.2->alibi) (2.34.1)\r\n",
      "Requirement already satisfied: tifffile>=2022.8.12 in ./.venv/lib/python3.12/site-packages (from scikit-image<0.23,>=0.17.2->alibi) (2024.6.18)\r\n",
      "Requirement already satisfied: lazy_loader>=0.3 in ./.venv/lib/python3.12/site-packages (from scikit-image<0.23,>=0.17.2->alibi) (0.4)\r\n",
      "Requirement already satisfied: joblib>=1.2.0 in ./.venv/lib/python3.12/site-packages (from scikit-learn<2.0.0,>=1.0.0->alibi) (1.4.2)\r\n",
      "Requirement already satisfied: threadpoolctl>=3.1.0 in ./.venv/lib/python3.12/site-packages (from scikit-learn<2.0.0,>=1.0.0->alibi) (3.5.0)\r\n",
      "Requirement already satisfied: spacy-legacy<3.1.0,>=3.0.11 in ./.venv/lib/python3.12/site-packages (from spacy[lookups]<4.0.0,>=2.0.0->alibi) (3.0.12)\r\n",
      "Requirement already satisfied: spacy-loggers<2.0.0,>=1.0.0 in ./.venv/lib/python3.12/site-packages (from spacy[lookups]<4.0.0,>=2.0.0->alibi) (1.0.5)\r\n",
      "Requirement already satisfied: murmurhash<1.1.0,>=0.28.0 in ./.venv/lib/python3.12/site-packages (from spacy[lookups]<4.0.0,>=2.0.0->alibi) (1.0.10)\r\n",
      "Requirement already satisfied: cymem<2.1.0,>=2.0.2 in ./.venv/lib/python3.12/site-packages (from spacy[lookups]<4.0.0,>=2.0.0->alibi) (2.0.8)\r\n",
      "Requirement already satisfied: preshed<3.1.0,>=3.0.2 in ./.venv/lib/python3.12/site-packages (from spacy[lookups]<4.0.0,>=2.0.0->alibi) (3.0.9)\r\n",
      "Requirement already satisfied: thinc<8.3.0,>=8.2.2 in ./.venv/lib/python3.12/site-packages (from spacy[lookups]<4.0.0,>=2.0.0->alibi) (8.2.5)\r\n",
      "Requirement already satisfied: wasabi<1.2.0,>=0.9.1 in ./.venv/lib/python3.12/site-packages (from spacy[lookups]<4.0.0,>=2.0.0->alibi) (1.1.3)\r\n",
      "Requirement already satisfied: srsly<3.0.0,>=2.4.3 in ./.venv/lib/python3.12/site-packages (from spacy[lookups]<4.0.0,>=2.0.0->alibi) (2.4.8)\r\n",
      "Requirement already satisfied: catalogue<2.1.0,>=2.0.6 in ./.venv/lib/python3.12/site-packages (from spacy[lookups]<4.0.0,>=2.0.0->alibi) (2.0.10)\r\n",
      "Requirement already satisfied: weasel<0.5.0,>=0.1.0 in ./.venv/lib/python3.12/site-packages (from spacy[lookups]<4.0.0,>=2.0.0->alibi) (0.4.1)\r\n",
      "Requirement already satisfied: typer<1.0.0,>=0.3.0 in ./.venv/lib/python3.12/site-packages (from spacy[lookups]<4.0.0,>=2.0.0->alibi) (0.12.3)\r\n",
      "Requirement already satisfied: pydantic!=1.8,!=1.8.1,<3.0.0,>=1.7.4 in ./.venv/lib/python3.12/site-packages (from spacy[lookups]<4.0.0,>=2.0.0->alibi) (2.7.4)\r\n",
      "Requirement already satisfied: jinja2 in ./.venv/lib/python3.12/site-packages (from spacy[lookups]<4.0.0,>=2.0.0->alibi) (3.1.4)\r\n",
      "Requirement already satisfied: setuptools in ./.venv/lib/python3.12/site-packages (from spacy[lookups]<4.0.0,>=2.0.0->alibi) (70.1.0)\r\n",
      "Requirement already satisfied: langcodes<4.0.0,>=3.2.0 in ./.venv/lib/python3.12/site-packages (from spacy[lookups]<4.0.0,>=2.0.0->alibi) (3.4.0)\r\n",
      "Requirement already satisfied: spacy-lookups-data<1.1.0,>=1.0.3 in ./.venv/lib/python3.12/site-packages (from spacy[lookups]<4.0.0,>=2.0.0->alibi) (1.0.5)\r\n",
      "Requirement already satisfied: filelock in ./.venv/lib/python3.12/site-packages (from transformers<5.0.0,>=4.7.0->alibi) (3.15.3)\r\n",
      "Requirement already satisfied: huggingface-hub<1.0,>=0.23.0 in ./.venv/lib/python3.12/site-packages (from transformers<5.0.0,>=4.7.0->alibi) (0.23.4)\r\n",
      "Requirement already satisfied: pyyaml>=5.1 in ./.venv/lib/python3.12/site-packages (from transformers<5.0.0,>=4.7.0->alibi) (6.0.1)\r\n",
      "Requirement already satisfied: regex!=2019.12.17 in ./.venv/lib/python3.12/site-packages (from transformers<5.0.0,>=4.7.0->alibi) (2024.5.15)\r\n",
      "Requirement already satisfied: tokenizers<0.20,>=0.19 in ./.venv/lib/python3.12/site-packages (from transformers<5.0.0,>=4.7.0->alibi) (0.19.1)\r\n",
      "Requirement already satisfied: safetensors>=0.4.1 in ./.venv/lib/python3.12/site-packages (from transformers<5.0.0,>=4.7.0->alibi) (0.4.3)\r\n",
      "Requirement already satisfied: fsspec>=2023.5.0 in ./.venv/lib/python3.12/site-packages (from huggingface-hub<1.0,>=0.23.0->transformers<5.0.0,>=4.7.0->alibi) (2024.6.0)\r\n",
      "Requirement already satisfied: language-data>=1.2 in ./.venv/lib/python3.12/site-packages (from langcodes<4.0.0,>=3.2.0->spacy[lookups]<4.0.0,>=2.0.0->alibi) (1.2.0)\r\n",
      "Requirement already satisfied: annotated-types>=0.4.0 in ./.venv/lib/python3.12/site-packages (from pydantic!=1.8,!=1.8.1,<3.0.0,>=1.7.4->spacy[lookups]<4.0.0,>=2.0.0->alibi) (0.7.0)\r\n",
      "Requirement already satisfied: pydantic-core==2.18.4 in ./.venv/lib/python3.12/site-packages (from pydantic!=1.8,!=1.8.1,<3.0.0,>=1.7.4->spacy[lookups]<4.0.0,>=2.0.0->alibi) (2.18.4)\r\n",
      "Requirement already satisfied: six>=1.5 in ./.venv/lib/python3.12/site-packages (from python-dateutil>=2.7->matplotlib<4.0.0,>=3.0.0->alibi) (1.16.0)\r\n",
      "Requirement already satisfied: confection<1.0.0,>=0.0.1 in ./.venv/lib/python3.12/site-packages (from thinc<8.3.0,>=8.2.2->spacy[lookups]<4.0.0,>=2.0.0->alibi) (0.1.5)\r\n",
      "Requirement already satisfied: click>=8.0.0 in ./.venv/lib/python3.12/site-packages (from typer<1.0.0,>=0.3.0->spacy[lookups]<4.0.0,>=2.0.0->alibi) (8.1.7)\r\n",
      "Requirement already satisfied: shellingham>=1.3.0 in ./.venv/lib/python3.12/site-packages (from typer<1.0.0,>=0.3.0->spacy[lookups]<4.0.0,>=2.0.0->alibi) (1.5.4)\r\n",
      "Requirement already satisfied: rich>=10.11.0 in ./.venv/lib/python3.12/site-packages (from typer<1.0.0,>=0.3.0->spacy[lookups]<4.0.0,>=2.0.0->alibi) (13.7.1)\r\n",
      "Requirement already satisfied: cloudpathlib<1.0.0,>=0.7.0 in ./.venv/lib/python3.12/site-packages (from weasel<0.5.0,>=0.1.0->spacy[lookups]<4.0.0,>=2.0.0->alibi) (0.18.1)\r\n",
      "Requirement already satisfied: smart-open<8.0.0,>=5.2.1 in ./.venv/lib/python3.12/site-packages (from weasel<0.5.0,>=0.1.0->spacy[lookups]<4.0.0,>=2.0.0->alibi) (7.0.4)\r\n",
      "Requirement already satisfied: MarkupSafe>=2.0 in ./.venv/lib/python3.12/site-packages (from jinja2->spacy[lookups]<4.0.0,>=2.0.0->alibi) (2.1.5)\r\n",
      "Requirement already satisfied: marisa-trie>=0.7.7 in ./.venv/lib/python3.12/site-packages (from language-data>=1.2->langcodes<4.0.0,>=3.2.0->spacy[lookups]<4.0.0,>=2.0.0->alibi) (1.2.0)\r\n",
      "Requirement already satisfied: markdown-it-py>=2.2.0 in ./.venv/lib/python3.12/site-packages (from rich>=10.11.0->typer<1.0.0,>=0.3.0->spacy[lookups]<4.0.0,>=2.0.0->alibi) (3.0.0)\r\n",
      "Requirement already satisfied: pygments<3.0.0,>=2.13.0 in ./.venv/lib/python3.12/site-packages (from rich>=10.11.0->typer<1.0.0,>=0.3.0->spacy[lookups]<4.0.0,>=2.0.0->alibi) (2.18.0)\r\n",
      "Requirement already satisfied: wrapt in ./.venv/lib/python3.12/site-packages (from smart-open<8.0.0,>=5.2.1->weasel<0.5.0,>=0.1.0->spacy[lookups]<4.0.0,>=2.0.0->alibi) (1.16.0)\r\n",
      "Requirement already satisfied: mdurl~=0.1 in ./.venv/lib/python3.12/site-packages (from markdown-it-py>=2.2.0->rich>=10.11.0->typer<1.0.0,>=0.3.0->spacy[lookups]<4.0.0,>=2.0.0->alibi) (0.1.2)\r\n",
      "\r\n",
      "\u001b[1m[\u001b[0m\u001b[34;49mnotice\u001b[0m\u001b[1;39;49m]\u001b[0m\u001b[39;49m A new release of pip is available: \u001b[0m\u001b[31;49m23.2.1\u001b[0m\u001b[39;49m -> \u001b[0m\u001b[32;49m24.0\u001b[0m\r\n",
      "\u001b[1m[\u001b[0m\u001b[34;49mnotice\u001b[0m\u001b[1;39;49m]\u001b[0m\u001b[39;49m To update, run: \u001b[0m\u001b[32;49mpip install --upgrade pip\u001b[0m\r\n",
      "Requirement already satisfied: shap in ./.venv/lib/python3.12/site-packages (0.45.1)\r\n",
      "Requirement already satisfied: numpy in ./.venv/lib/python3.12/site-packages (from shap) (1.26.4)\r\n",
      "Requirement already satisfied: scipy in ./.venv/lib/python3.12/site-packages (from shap) (1.13.1)\r\n",
      "Requirement already satisfied: scikit-learn in ./.venv/lib/python3.12/site-packages (from shap) (1.5.0)\r\n",
      "Requirement already satisfied: pandas in ./.venv/lib/python3.12/site-packages (from shap) (2.2.2)\r\n",
      "Requirement already satisfied: tqdm>=4.27.0 in ./.venv/lib/python3.12/site-packages (from shap) (4.66.4)\r\n",
      "Requirement already satisfied: packaging>20.9 in ./.venv/lib/python3.12/site-packages (from shap) (24.1)\r\n",
      "Requirement already satisfied: slicer==0.0.8 in ./.venv/lib/python3.12/site-packages (from shap) (0.0.8)\r\n",
      "Requirement already satisfied: numba in ./.venv/lib/python3.12/site-packages (from shap) (0.60.0)\r\n",
      "Requirement already satisfied: cloudpickle in ./.venv/lib/python3.12/site-packages (from shap) (3.0.0)\r\n",
      "Requirement already satisfied: llvmlite<0.44,>=0.43.0dev0 in ./.venv/lib/python3.12/site-packages (from numba->shap) (0.43.0)\r\n",
      "Requirement already satisfied: python-dateutil>=2.8.2 in ./.venv/lib/python3.12/site-packages (from pandas->shap) (2.9.0.post0)\r\n",
      "Requirement already satisfied: pytz>=2020.1 in ./.venv/lib/python3.12/site-packages (from pandas->shap) (2024.1)\r\n",
      "Requirement already satisfied: tzdata>=2022.7 in ./.venv/lib/python3.12/site-packages (from pandas->shap) (2024.1)\r\n",
      "Requirement already satisfied: joblib>=1.2.0 in ./.venv/lib/python3.12/site-packages (from scikit-learn->shap) (1.4.2)\r\n",
      "Requirement already satisfied: threadpoolctl>=3.1.0 in ./.venv/lib/python3.12/site-packages (from scikit-learn->shap) (3.5.0)\r\n",
      "Requirement already satisfied: six>=1.5 in ./.venv/lib/python3.12/site-packages (from python-dateutil>=2.8.2->pandas->shap) (1.16.0)\r\n",
      "\r\n",
      "\u001b[1m[\u001b[0m\u001b[34;49mnotice\u001b[0m\u001b[1;39;49m]\u001b[0m\u001b[39;49m A new release of pip is available: \u001b[0m\u001b[31;49m23.2.1\u001b[0m\u001b[39;49m -> \u001b[0m\u001b[32;49m24.0\u001b[0m\r\n",
      "\u001b[1m[\u001b[0m\u001b[34;49mnotice\u001b[0m\u001b[1;39;49m]\u001b[0m\u001b[39;49m To update, run: \u001b[0m\u001b[32;49mpip install --upgrade pip\u001b[0m\r\n"
     ]
    }
   ],
   "source": [
    "!pip install ucimlrepo\n",
    "!pip install matplotlib seaborn\n",
    "# !pip install sklearn Already preinstalled\n",
    "!pip install alibi\n",
    "!pip install shap\n"
   ]
  },
  {
   "cell_type": "markdown",
   "metadata": {
    "id": "G1ccSk6rb5xy"
   },
   "source": [
    "# Cervical cancer risk factor prediction\n",
    "We consider the cervical cancer dataset contains indicators and risk factors for predicting whether a woman will get cervical cancer. The features include demographic data (such as age), lifestyle, and medical history. The objectives are: 1) to train a risk predictor (i.e., binary classifier) of cervical cancer, given the input features. 2) to identify the most important risk factors.\n",
    "\n",
    "The features are:\n",
    "1.\tAge in years\n",
    "2.\tNumber of sexual partners\n",
    "3.\tFirst sexual intercourse (age in years)\n",
    "4.\tNumber of pregnancies\n",
    "5.\tSmoking (in years)\n",
    "6.\tHormonal contraceptives (in years)\n",
    "7.\tNumber of years with an intrauterine device (IUD)\n",
    "8.\tHas patient ever had a sexually transmitted disease (STD) yes or no\n",
    "9.\tNumber of STD diagnoses\n",
    "10.\tTime since first STD diagnosis\n",
    "11.\tTime since last STD diagnosis\n",
    "12.\thPV diagnostic\n",
    "\n",
    "The target is the biopsy results: “Healthy” or “Cancer”.\n"
   ]
  },
  {
   "cell_type": "markdown",
   "metadata": {
    "id": "YeywzZm1a_bo"
   },
   "source": []
  },
  {
   "cell_type": "markdown",
   "metadata": {
    "id": "8JN51h9rctyk"
   },
   "source": [
    "## Download dataset, partition into train/test"
   ]
  },
  {
   "cell_type": "code",
   "execution_count": 1,
   "metadata": {
    "ExecuteTime": {
     "end_time": "2024-06-21T16:32:48.749657Z",
     "start_time": "2024-06-21T16:32:43.774997Z"
    },
    "colab": {
     "background_save": true
    },
    "id": "m6ueKmILa8cl",
    "outputId": "47ec6712-34b9-43c2-8dab-dbd1ed1d9f60"
   },
   "outputs": [
    {
     "name": "stdout",
     "output_type": "stream",
     "text": [
      "Number of instances 858\n",
      "Summary The dataset was collected at 'Hospital Universitario de Caracas' in Caracas, Venezuela. The dataset comprises demographic information, habits, and historic medical records of 858 patients. Several patients decided not to answer some of the questions because of privacy concerns (missing values).\n",
      "All variables                                   name     role        type demographic  \\\n",
      "0                                  Age  Feature     Integer         Age   \n",
      "1            Number of sexual partners  Feature  Continuous       Other   \n",
      "2             First sexual intercourse  Feature  Continuous        None   \n",
      "3                   Num of pregnancies  Feature  Continuous        None   \n",
      "4                               Smokes  Feature  Continuous        None   \n",
      "5                       Smokes (years)  Feature  Continuous        None   \n",
      "6                  Smokes (packs/year)  Feature  Continuous        None   \n",
      "7              Hormonal Contraceptives  Feature  Continuous        None   \n",
      "8      Hormonal Contraceptives (years)  Feature  Continuous        None   \n",
      "9                                  IUD  Feature  Continuous        None   \n",
      "10                         IUD (years)  Feature  Continuous        None   \n",
      "11                                STDs  Feature  Continuous        None   \n",
      "12                       STDs (number)  Feature  Continuous        None   \n",
      "13                 STDs:condylomatosis  Feature  Continuous        None   \n",
      "14        STDs:cervical condylomatosis  Feature  Continuous        None   \n",
      "15         STDs:vaginal condylomatosis  Feature  Continuous        None   \n",
      "16  STDs:vulvo-perineal condylomatosis  Feature  Continuous        None   \n",
      "17                       STDs:syphilis  Feature  Continuous        None   \n",
      "18    STDs:pelvic inflammatory disease  Feature  Continuous        None   \n",
      "19                 STDs:genital herpes  Feature  Continuous        None   \n",
      "20          STDs:molluscum contagiosum  Feature  Continuous        None   \n",
      "21                           STDs:AIDS  Feature  Continuous        None   \n",
      "22                            STDs:HIV  Feature  Continuous        None   \n",
      "23                    STDs:Hepatitis B  Feature  Continuous        None   \n",
      "24                            STDs:HPV  Feature  Continuous        None   \n",
      "25           STDs: Number of diagnosis  Feature     Integer        None   \n",
      "26    STDs: Time since first diagnosis  Feature  Continuous        None   \n",
      "27     STDs: Time since last diagnosis  Feature  Continuous        None   \n",
      "28                           Dx:Cancer  Feature     Integer        None   \n",
      "29                              Dx:CIN  Feature     Integer        None   \n",
      "30                              Dx:HPV  Feature     Integer        None   \n",
      "31                                  Dx  Feature     Integer        None   \n",
      "32                          Hinselmann  Feature     Integer        None   \n",
      "33                            Schiller  Feature     Integer        None   \n",
      "34                            Citology  Feature     Integer        None   \n",
      "35                              Biopsy  Feature     Integer        None   \n",
      "\n",
      "   description units missing_values  \n",
      "0         None  None             no  \n",
      "1         None  None            yes  \n",
      "2         None  None            yes  \n",
      "3         None  None            yes  \n",
      "4         None  None            yes  \n",
      "5         None  None            yes  \n",
      "6         None  None            yes  \n",
      "7         None  None            yes  \n",
      "8         None  None            yes  \n",
      "9         None  None            yes  \n",
      "10        None  None            yes  \n",
      "11        None  None            yes  \n",
      "12        None  None            yes  \n",
      "13        None  None            yes  \n",
      "14        None  None            yes  \n",
      "15        None  None            yes  \n",
      "16        None  None            yes  \n",
      "17        None  None            yes  \n",
      "18        None  None            yes  \n",
      "19        None  None            yes  \n",
      "20        None  None            yes  \n",
      "21        None  None            yes  \n",
      "22        None  None            yes  \n",
      "23        None  None            yes  \n",
      "24        None  None            yes  \n",
      "25        None  None             no  \n",
      "26        None  None            yes  \n",
      "27        None  None            yes  \n",
      "28        None  None             no  \n",
      "29        None  None             no  \n",
      "30        None  None             no  \n",
      "31        None  None             no  \n",
      "32        None  None             no  \n",
      "33        None  None             no  \n",
      "34        None  None             no  \n",
      "35        None  None             no  \n"
     ]
    }
   ],
   "source": [
    "from ucimlrepo import fetch_ucirepo\n",
    "cervical_cancer = fetch_ucirepo(name = 'Cervical Cancer')\n",
    "\n",
    "X = cervical_cancer.data.features\n",
    "y = X['Biopsy'] # Ground truth diagnosis: Biopsy result\n",
    "\n",
    "# access metadata\n",
    "print('Number of instances', cervical_cancer.metadata.num_instances)\n",
    "print('Summary', cervical_cancer.metadata.additional_info.summary)\n",
    "\n",
    "# access variable info in tabular format\n",
    "print('All variables' , cervical_cancer.variables)\n",
    "\n",
    "# Retain only a fraction of the features:\n",
    "\n",
    "included_features = ['Age',\n",
    "                     'Number of sexual partners',\n",
    "                     'First sexual intercourse',\n",
    "                     'Num of pregnancies',\n",
    "                     'Smokes (years)',\n",
    "                     'Hormonal Contraceptives (years)',\n",
    "                     'IUD (years)',\n",
    "                     'STDs',\n",
    "                     'STDs: Number of diagnosis',\n",
    "                     'STDs: Time since first diagnosis',\n",
    "                     'STDs: Time since last diagnosis',\n",
    "                     'Dx:HPV']\n",
    "\n",
    "X = X[included_features]"
   ]
  },
  {
   "cell_type": "markdown",
   "metadata": {
    "id": "BzZvdRlEefBN"
   },
   "source": [
    "## Data cleaning.\n",
    "Here, we display summary statistics and identify potential issues. Here, we find no aberrant values, but some features are missing for some instances; we replace missing feature values by the median of the dataset."
   ]
  },
  {
   "cell_type": "code",
   "execution_count": 5,
   "metadata": {
    "ExecuteTime": {
     "end_time": "2024-06-20T17:28:36.064010Z",
     "start_time": "2024-06-20T17:28:35.346097Z"
    },
    "colab": {
     "background_save": true
    },
    "id": "_GZ50pATcsAY",
    "outputId": "373ea313-e4db-4a95-f844-1c5e68d7761d"
   },
   "outputs": [
    {
     "name": "stdout",
     "output_type": "stream",
     "text": [
      "Before imputation\n",
      "              Age  Number of sexual partners  First sexual intercourse  \\\n",
      "count  858.000000                 832.000000                851.000000   \n",
      "mean    26.820513                   2.527644                 16.995300   \n",
      "std      8.497948                   1.667760                  2.803355   \n",
      "min     13.000000                   1.000000                 10.000000   \n",
      "25%     20.000000                   2.000000                 15.000000   \n",
      "50%     25.000000                   2.000000                 17.000000   \n",
      "75%     32.000000                   3.000000                 18.000000   \n",
      "max     84.000000                  28.000000                 32.000000   \n",
      "\n",
      "       Num of pregnancies  Smokes (years)  Hormonal Contraceptives (years)  \\\n",
      "count          802.000000      845.000000                       750.000000   \n",
      "mean             2.275561        1.219721                         2.256419   \n",
      "std              1.447414        4.089017                         3.764254   \n",
      "min              0.000000        0.000000                         0.000000   \n",
      "25%              1.000000        0.000000                         0.000000   \n",
      "50%              2.000000        0.000000                         0.500000   \n",
      "75%              3.000000        0.000000                         3.000000   \n",
      "max             11.000000       37.000000                        30.000000   \n",
      "\n",
      "       IUD (years)        STDs  STDs: Number of diagnosis  \\\n",
      "count   741.000000  753.000000                 858.000000   \n",
      "mean      0.514804    0.104914                   0.087413   \n",
      "std       1.943089    0.306646                   0.302545   \n",
      "min       0.000000    0.000000                   0.000000   \n",
      "25%       0.000000    0.000000                   0.000000   \n",
      "50%       0.000000    0.000000                   0.000000   \n",
      "75%       0.000000    0.000000                   0.000000   \n",
      "max      19.000000    1.000000                   3.000000   \n",
      "\n",
      "       STDs: Time since first diagnosis  STDs: Time since last diagnosis  \\\n",
      "count                         71.000000                        71.000000   \n",
      "mean                           6.140845                         5.816901   \n",
      "std                            5.895024                         5.755271   \n",
      "min                            1.000000                         1.000000   \n",
      "25%                            2.000000                         2.000000   \n",
      "50%                            4.000000                         3.000000   \n",
      "75%                            8.000000                         7.500000   \n",
      "max                           22.000000                        22.000000   \n",
      "\n",
      "           Dx:HPV  \n",
      "count  858.000000  \n",
      "mean     0.020979  \n",
      "std      0.143398  \n",
      "min      0.000000  \n",
      "25%      0.000000  \n",
      "50%      0.000000  \n",
      "75%      0.000000  \n",
      "max      1.000000  \n",
      "after imputation\n",
      "              Age  Number of sexual partners  First sexual intercourse  \\\n",
      "count  858.000000                 858.000000                858.000000   \n",
      "mean    26.820513                   2.511655                 16.995338   \n",
      "std      8.497948                   1.644759                  2.791883   \n",
      "min     13.000000                   1.000000                 10.000000   \n",
      "25%     20.000000                   2.000000                 15.000000   \n",
      "50%     25.000000                   2.000000                 17.000000   \n",
      "75%     32.000000                   3.000000                 18.000000   \n",
      "max     84.000000                  28.000000                 32.000000   \n",
      "\n",
      "       Num of pregnancies  Smokes (years)  Hormonal Contraceptives (years)  \\\n",
      "count          858.000000      858.000000                       858.000000   \n",
      "mean             2.257576        1.201241                         2.035331   \n",
      "std              1.400981        4.060623                         3.567040   \n",
      "min              0.000000        0.000000                         0.000000   \n",
      "25%              1.000000        0.000000                         0.000000   \n",
      "50%              2.000000        0.000000                         0.500000   \n",
      "75%              3.000000        0.000000                         2.000000   \n",
      "max             11.000000       37.000000                        30.000000   \n",
      "\n",
      "       IUD (years)        STDs  STDs: Number of diagnosis  \\\n",
      "count   858.000000  858.000000                 858.000000   \n",
      "mean      0.444604    0.092075                   0.087413   \n",
      "std       1.814218    0.289300                   0.302545   \n",
      "min       0.000000    0.000000                   0.000000   \n",
      "25%       0.000000    0.000000                   0.000000   \n",
      "50%       0.000000    0.000000                   0.000000   \n",
      "75%       0.000000    0.000000                   0.000000   \n",
      "max      19.000000    1.000000                   3.000000   \n",
      "\n",
      "       STDs: Time since first diagnosis  STDs: Time since last diagnosis  \\\n",
      "count                        858.000000                       858.000000   \n",
      "mean                           4.177156                         3.233100   \n",
      "std                            1.785156                         1.818927   \n",
      "min                            1.000000                         1.000000   \n",
      "25%                            4.000000                         3.000000   \n",
      "50%                            4.000000                         3.000000   \n",
      "75%                            4.000000                         3.000000   \n",
      "max                           22.000000                        22.000000   \n",
      "\n",
      "           Dx:HPV  \n",
      "count  858.000000  \n",
      "mean     0.020979  \n",
      "std      0.143398  \n",
      "min      0.000000  \n",
      "25%      0.000000  \n",
      "50%      0.000000  \n",
      "75%      0.000000  \n",
      "max      1.000000  \n"
     ]
    }
   ],
   "source": [
    "import pandas as pd\n",
    "from sklearn.impute import SimpleImputer\n",
    "print('Before imputation')\n",
    "print(X.describe())\n",
    "\n",
    "imputer = SimpleImputer(strategy=\"median\")\n",
    "X = pd.DataFrame(imputer.fit_transform(X),columns=X.columns)\n",
    "print('after imputation')\n",
    "print(X.describe())"
   ]
  },
  {
   "cell_type": "markdown",
   "metadata": {
    "id": "CD7HD-qJg0c8"
   },
   "source": [
    "## Data Partition"
   ]
  },
  {
   "cell_type": "code",
   "execution_count": 6,
   "metadata": {
    "ExecuteTime": {
     "end_time": "2024-06-20T17:28:36.068196Z",
     "start_time": "2024-06-20T17:28:36.064589Z"
    },
    "colab": {
     "background_save": true
    },
    "id": "lGj6yhcNeQBx",
    "outputId": "5d9da795-39eb-4461-88d7-743ee1c506fc",
    "scrolled": true
   },
   "outputs": [
    {
     "name": "stdout",
     "output_type": "stream",
     "text": [
      "(643, 12) (215, 12) (643,) (215,)\n"
     ]
    }
   ],
   "source": [
    "from sklearn.model_selection import train_test_split\n",
    "X_train, X_test, y_train, y_test = train_test_split(X, y, random_state=0,stratify=y)\n",
    "\n",
    "y_train = y_train.astype(int)\n",
    "y_test = y_test.astype(int)\n",
    "\n",
    "print(X_train.shape, X_test.shape, y_train.shape, y_test.shape)"
   ]
  },
  {
   "cell_type": "markdown",
   "metadata": {},
   "source": [
    "---"
   ]
  },
  {
   "cell_type": "markdown",
   "metadata": {},
   "source": [
    "---"
   ]
  },
  {
   "cell_type": "markdown",
   "metadata": {},
   "source": [
    "## B. Logistic Regression"
   ]
  },
  {
   "cell_type": "markdown",
   "metadata": {},
   "source": [
    "### 1.\tTrain an L2-regularized logistic regression model on the training data set with an optimal using the AUCROC metric. You can use the sklearn.linear_model.LogisticRegressionCV function to automatically adjust the value of the L2 penalty."
   ]
  },
  {
   "cell_type": "code",
   "execution_count": null,
   "metadata": {},
   "outputs": [],
   "source": []
  },
  {
   "cell_type": "markdown",
   "metadata": {},
   "source": [
    "### 2.\tReport the classification performance on the train and test set (accuracy, AUROC, and negative log-likelihood)."
   ]
  },
  {
   "cell_type": "code",
   "execution_count": null,
   "metadata": {},
   "outputs": [],
   "source": []
  },
  {
   "cell_type": "markdown",
   "metadata": {},
   "source": [
    "### 3.\tCalculate the feature importance (defined as the standard deviation of the feature effects) and visualize them as a bar plot."
   ]
  },
  {
   "cell_type": "code",
   "execution_count": null,
   "metadata": {},
   "outputs": [],
   "source": []
  },
  {
   "cell_type": "markdown",
   "metadata": {},
   "source": [
    "### 4.\tWhat are the most and least important features?"
   ]
  },
  {
   "cell_type": "code",
   "execution_count": null,
   "metadata": {},
   "outputs": [],
   "source": []
  },
  {
   "cell_type": "markdown",
   "metadata": {},
   "source": [
    "---"
   ]
  },
  {
   "cell_type": "markdown",
   "metadata": {},
   "source": [
    "## C. Generalized Additive Model\n",
    "The log-odds ratio of having cervical cancer is not expected to be linearly related to the numerical features. Hence, a Generalized Additive Model could be more accurate."
   ]
  },
  {
   "cell_type": "markdown",
   "metadata": {},
   "source": [
    "### 1.\tBuild and train a Generalized Additive Model, where the numerical features have a trainable, non-linear effect, and the others have a linear effect. \n",
    "Your model should be implemented as a scikit-learn Pipeline (sklearn.pipeline.Pipeline), where numerical features are transformed via B-splines (cubic order, 5 knots, constant extrapolation; use sklearn.preprocessing.SplineTransformer) while other features are not transformed (use sklearn.compose.ColumnTransformer), followed by an L2-regularized logistic regression model (use sklearn.linear_model.LogisticRegressionCV)."
   ]
  },
  {
   "cell_type": "code",
   "execution_count": null,
   "metadata": {},
   "outputs": [],
   "source": []
  },
  {
   "cell_type": "markdown",
   "metadata": {},
   "source": [
    "### 2.\tReport the classification performance on the train and test set (accuracy, AUROC, and negative log-likelihood) and compare with the performance of the logistic regression model."
   ]
  },
  {
   "cell_type": "code",
   "execution_count": null,
   "metadata": {},
   "outputs": [],
   "source": []
  },
  {
   "cell_type": "markdown",
   "metadata": {},
   "source": [
    "### 3.\tVisualize the learnt non-linearity (use sklearn.inspection.partial_dependence)."
   ]
  },
  {
   "cell_type": "code",
   "execution_count": null,
   "metadata": {},
   "outputs": [],
   "source": []
  },
  {
   "cell_type": "markdown",
   "metadata": {},
   "source": [
    "### 4.\tCalculate the feature effects (you can adapt the code snippet from the tutorial)."
   ]
  },
  {
   "cell_type": "code",
   "execution_count": null,
   "metadata": {},
   "outputs": [],
   "source": []
  },
  {
   "cell_type": "markdown",
   "metadata": {},
   "source": [
    "### 5.\tWhat are the most and least important features? Comment on the differences."
   ]
  },
  {
   "cell_type": "code",
   "execution_count": null,
   "metadata": {},
   "outputs": [],
   "source": []
  },
  {
   "cell_type": "markdown",
   "metadata": {},
   "source": [
    "---"
   ]
  },
  {
   "cell_type": "markdown",
   "metadata": {},
   "source": [
    "## D. Black-box Classifier Model\n",
    "A model taking into account interactions between features could yield better predictive performance at the cost of reduced interpretability. We will build such a black-box model and use a-posteriori interpretation/explanation methods."
   ]
  },
  {
   "cell_type": "markdown",
   "metadata": {},
   "source": [
    "### 1.\tTrain a Random Forest classifier (sklearn.ensemble.RandomForestClassifier) with n_estimators=200 trees. \n",
    "Optimize the min_samples_leaf hyperparameter (from 1 to 100) using cross-validation over the train set (use sklearn.model_selection.GridSearchCV and sklearn.model_selection.KFold)."
   ]
  },
  {
   "cell_type": "code",
   "execution_count": null,
   "metadata": {},
   "outputs": [],
   "source": []
  },
  {
   "cell_type": "markdown",
   "metadata": {},
   "source": [
    "### 2.\tDetermine the feature importance using the permutation importance metric on the train and test set and visualize them (sklearn.inspection.permutation_importance)."
   ]
  },
  {
   "cell_type": "code",
   "execution_count": null,
   "metadata": {},
   "outputs": [],
   "source": []
  },
  {
   "cell_type": "markdown",
   "metadata": {},
   "source": [
    "### 3.\tConclude on the most important features, and on the features for which overfitting occurs. Are the conclusions different from previously? Why?"
   ]
  },
  {
   "cell_type": "code",
   "execution_count": null,
   "metadata": {},
   "outputs": [],
   "source": []
  },
  {
   "cell_type": "markdown",
   "metadata": {},
   "source": [
    "### 4.\tUsing the alibi package (Accumulated Local Effects (ALE)), plot the Accumulated Local Effects for all numerical features and report them. How do the ALE plots compare with the partial dependence plots of the GAM model?"
   ]
  },
  {
   "cell_type": "code",
   "execution_count": null,
   "metadata": {},
   "outputs": [],
   "source": []
  },
  {
   "cell_type": "markdown",
   "metadata": {},
   "source": [
    "---"
   ]
  },
  {
   "cell_type": "markdown",
   "metadata": {},
   "source": [
    "## E. Shapley Values\n",
    "\n",
    "Let us now try to compare how each model relies on each feature, and explain individual predictions. Using the TreeExplainer class of the shap package, calculate the Shapley values of the Random Forest model over the test set."
   ]
  },
  {
   "cell_type": "markdown",
   "metadata": {},
   "source": [
    "### 1.\tVisualize the Shapley values using a summary plot. How do they compare to ALE plots?"
   ]
  },
  {
   "cell_type": "code",
   "execution_count": null,
   "metadata": {},
   "outputs": [],
   "source": []
  },
  {
   "cell_type": "markdown",
   "metadata": {},
   "source": [
    "### 2.\tCalculate the Shapley feature importance, as the average of the absolute value of the Shapley values. How do they compare to the feature importances determined in D.2?"
   ]
  },
  {
   "cell_type": "code",
   "execution_count": null,
   "metadata": {},
   "outputs": [],
   "source": []
  },
  {
   "cell_type": "markdown",
   "metadata": {},
   "source": [
    "### 3.\tPick two test set instances for which the Random Forest model makes an incorrect prediction. Explain their corresponding prediction using a Shapley values force plot."
   ]
  },
  {
   "cell_type": "code",
   "execution_count": null,
   "metadata": {},
   "outputs": [],
   "source": []
  },
  {
   "attachments": {},
   "cell_type": "markdown",
   "metadata": {},
   "source": [
    "## F. Bonus\n",
    "\n",
    "Based on the various model interpretations provided, can you come up with a better model, based on a different set of features?"
   ]
  },
  {
   "cell_type": "code",
   "execution_count": null,
   "metadata": {},
   "outputs": [],
   "source": []
  }
 ],
 "metadata": {
  "colab": {
   "provenance": []
  },
  "kernelspec": {
   "display_name": "Python 3 (ipykernel)",
   "language": "python",
   "name": "python3"
  },
  "language_info": {
   "codemirror_mode": {
    "name": "ipython",
    "version": 3
   },
   "file_extension": ".py",
   "mimetype": "text/x-python",
   "name": "python",
   "nbconvert_exporter": "python",
   "pygments_lexer": "ipython3",
   "version": "3.12.3"
  }
 },
 "nbformat": 4,
 "nbformat_minor": 4
}
